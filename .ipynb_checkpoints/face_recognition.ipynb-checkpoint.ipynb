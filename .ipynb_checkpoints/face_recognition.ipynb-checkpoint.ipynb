{
 "cells": [
  {
   "cell_type": "code",
   "execution_count": 1,
   "metadata": {},
   "outputs": [
    {
     "name": "stdout",
     "output_type": "stream",
     "text": [
      "Project Directory: C:\\Users\\anand\\face_recognition_project\n",
      "Known Faces: []\n",
      "Unknown Faces: []\n"
     ]
    }
   ],
   "source": [
    "import os\n",
    "\n",
    "print(\"Project Directory:\", os.getcwd())\n",
    "print(\"Known Faces:\", os.listdir(\"known_faces\"))\n",
    "print(\"Unknown Faces:\", os.listdir(\"unknown_faces\"))\n"
   ]
  },
  {
   "cell_type": "code",
   "execution_count": null,
   "metadata": {},
   "outputs": [],
   "source": []
  }
 ],
 "metadata": {
  "kernelspec": {
   "display_name": "Python 3",
   "language": "python",
   "name": "python3"
  },
  "language_info": {
   "codemirror_mode": {
    "name": "ipython",
    "version": 3
   },
   "file_extension": ".py",
   "mimetype": "text/x-python",
   "name": "python",
   "nbconvert_exporter": "python",
   "pygments_lexer": "ipython3",
   "version": "3.8.3"
  }
 },
 "nbformat": 4,
 "nbformat_minor": 4
}
